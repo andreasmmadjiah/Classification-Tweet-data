{
 "cells": [
  {
   "cell_type": "markdown",
   "metadata": {},
   "source": [
    "# Data Modelling\n",
    "## Using Classification algorithm \n",
    "#### Decision tree, Random Forrest, XGB, Naive Bayer, Logistic Regression"
   ]
  },
  {
   "cell_type": "markdown",
   "metadata": {},
   "source": [
    "<br><br>\n",
    "In the previous python file, we already clean and preprocess our data. Now, we want to build classification model using Decision Tree, Random Forrest, XGB, Naive Bayes, And Logistic Regression. <br><br>\n",
    "\n",
    "**In general what we want to do in this file :**\n",
    "\n",
    "<br>\n",
    "\n",
    "1. Import necesary modules and df3.csv which is data clean_tweet that already been cleaned\n",
    "2. Sampling the data, use only 7% as we see using all data, it take to long to compute. We sugested using server or using PYSPARK, MAPREDUCE in hadoop, and others to distributed jobs to servers\n",
    "3. use TFID vectorizer to change from text into numeric. Notes that we use TFID as it's using weight in frequent words, rather than just changing the frequency in countvectorizer\n",
    "4. build train test split\n",
    "5. Build classification model, comparing the recall, precision, and f1score\n",
    "6. Optional\n",
    "    - Build clasification model by removing words that is appear in both sentiments\n",
    "    - Build clasification model by using typo correction (textblob) *notes : we only use 0.1% data as it takes to long to compute textblob*\n",
    "    \n"
   ]
  },
  {
   "cell_type": "markdown",
   "metadata": {},
   "source": [
    "<br><br>\n",
    "### 1. Importing necessary modules and data"
   ]
  },
  {
   "cell_type": "markdown",
   "metadata": {},
   "source": [
    "<br><br>\n",
    "Notes, that we can use many algorithm like MLPclasiffier, KNN, SVC and many more. But, there are computationaly expensive and it takes to long to train the model. So we use faster algorithm."
   ]
  },
  {
   "cell_type": "code",
   "execution_count": 30,
   "metadata": {},
   "outputs": [],
   "source": [
    "# Import necesary modules for data\n",
    "import pandas as pd\n",
    "import numpy as np\n",
    "\n",
    "# Classifier Model\n",
    "\n",
    "# from sklearn.neural_network import MLPClassifier\n",
    "# from sklearn.neighbors import KNeighborsClassifier\n",
    "# from sklearn.svm import SVC\n",
    "# from sklearn.gaussian_process import GaussianProcessClassifier\n",
    "# from sklearn.gaussian_process.kernels import RBF\n",
    "# from sklearn.naive_bayes import GaussianNB\n",
    "# from sklearn.discriminant_analysis import QuadraticDiscriminantAnalysis\n",
    "from xgboost import XGBClassifier\n",
    "from sklearn.naive_bayes import MultinomialNB\n",
    "from sklearn.linear_model import LogisticRegression\n",
    "from sklearn.tree import DecisionTreeClassifier\n",
    "from sklearn.ensemble import RandomForestClassifier\n",
    "\n",
    "\n",
    "#import sklearn preprocessing \n",
    "from sklearn.model_selection import train_test_split\n",
    "from sklearn.pipeline import Pipeline\n",
    "from sklearn.feature_extraction.text import CountVectorizer\n",
    "from sklearn.feature_extraction.text import TfidfTransformer\n",
    "from sklearn.feature_extraction.text import TfidfVectorizer\n",
    "\n",
    "#import sklearn for model evaluation \n",
    "from sklearn.metrics import confusion_matrix, classification_report\n",
    "from sklearn.metrics import accuracy_score, precision_score, recall_score, f1_score\n",
    "\n",
    "#import visualization module \n",
    "import matplotlib.pyplot as plt\n",
    "import seaborn as sns\n",
    "from wordcloud import WordCloud, STOPWORDS\n",
    "\n",
    "\n",
    "\n",
    "#import textblob \n",
    "from textblob import TextBlob"
   ]
  },
  {
   "cell_type": "code",
   "execution_count": 4,
   "metadata": {},
   "outputs": [
    {
     "name": "stdout",
     "output_type": "stream",
     "text": [
      "(1596753, 2)\n"
     ]
    },
    {
     "data": {
      "text/html": [
       "<div>\n",
       "<style scoped>\n",
       "    .dataframe tbody tr th:only-of-type {\n",
       "        vertical-align: middle;\n",
       "    }\n",
       "\n",
       "    .dataframe tbody tr th {\n",
       "        vertical-align: top;\n",
       "    }\n",
       "\n",
       "    .dataframe thead th {\n",
       "        text-align: right;\n",
       "    }\n",
       "</style>\n",
       "<table border=\"1\" class=\"dataframe\">\n",
       "  <thead>\n",
       "    <tr style=\"text-align: right;\">\n",
       "      <th></th>\n",
       "      <th>text</th>\n",
       "      <th>target</th>\n",
       "    </tr>\n",
       "  </thead>\n",
       "  <tbody>\n",
       "    <tr>\n",
       "      <th>0</th>\n",
       "      <td>awww bummer shoulda get david carr third day</td>\n",
       "      <td>0</td>\n",
       "    </tr>\n",
       "    <tr>\n",
       "      <th>1</th>\n",
       "      <td>upset update facebook texting might cry result...</td>\n",
       "      <td>0</td>\n",
       "    </tr>\n",
       "    <tr>\n",
       "      <th>2</th>\n",
       "      <td>dive many time ball manage save rest go bound</td>\n",
       "      <td>0</td>\n",
       "    </tr>\n",
       "    <tr>\n",
       "      <th>3</th>\n",
       "      <td>whole body feel itchy like fire</td>\n",
       "      <td>0</td>\n",
       "    </tr>\n",
       "    <tr>\n",
       "      <th>4</th>\n",
       "      <td>behave mad see</td>\n",
       "      <td>0</td>\n",
       "    </tr>\n",
       "  </tbody>\n",
       "</table>\n",
       "</div>"
      ],
      "text/plain": [
       "                                                text  target\n",
       "0       awww bummer shoulda get david carr third day       0\n",
       "1  upset update facebook texting might cry result...       0\n",
       "2      dive many time ball manage save rest go bound       0\n",
       "3                    whole body feel itchy like fire       0\n",
       "4                                     behave mad see       0"
      ]
     },
     "execution_count": 4,
     "metadata": {},
     "output_type": "execute_result"
    }
   ],
   "source": [
    "df4 = pd.read_csv('df3.csv').drop(columns=['Unnamed: 0'])\n",
    "print(df4.shape)\n",
    "df4=df4.dropna()\n",
    "df4.head()"
   ]
  },
  {
   "cell_type": "markdown",
   "metadata": {},
   "source": [
    "<br><br>\n",
    "We drop unnamed:0 as it is automaticaly create when we export to csv. We see that our data already been cleaned (no stopwords, base verb)"
   ]
  },
  {
   "cell_type": "code",
   "execution_count": 5,
   "metadata": {},
   "outputs": [
    {
     "data": {
      "text/html": [
       "<div>\n",
       "<style scoped>\n",
       "    .dataframe tbody tr th:only-of-type {\n",
       "        vertical-align: middle;\n",
       "    }\n",
       "\n",
       "    .dataframe tbody tr th {\n",
       "        vertical-align: top;\n",
       "    }\n",
       "\n",
       "    .dataframe thead th {\n",
       "        text-align: right;\n",
       "    }\n",
       "</style>\n",
       "<table border=\"1\" class=\"dataframe\">\n",
       "  <thead>\n",
       "    <tr style=\"text-align: right;\">\n",
       "      <th></th>\n",
       "      <th>text</th>\n",
       "      <th>target</th>\n",
       "    </tr>\n",
       "  </thead>\n",
       "  <tbody>\n",
       "    <tr>\n",
       "      <th>1596748</th>\n",
       "      <td>wake school best feel ever</td>\n",
       "      <td>1</td>\n",
       "    </tr>\n",
       "    <tr>\n",
       "      <th>1596749</th>\n",
       "      <td>thewdb com cool hear old walt interview bmta</td>\n",
       "      <td>1</td>\n",
       "    </tr>\n",
       "    <tr>\n",
       "      <th>1596750</th>\n",
       "      <td>ready mojo makeover ask detail</td>\n",
       "      <td>1</td>\n",
       "    </tr>\n",
       "    <tr>\n",
       "      <th>1596751</th>\n",
       "      <td>happy th birthday boo alll time tupac amaru sh...</td>\n",
       "      <td>1</td>\n",
       "    </tr>\n",
       "    <tr>\n",
       "      <th>1596752</th>\n",
       "      <td>happy charitytuesday</td>\n",
       "      <td>1</td>\n",
       "    </tr>\n",
       "  </tbody>\n",
       "</table>\n",
       "</div>"
      ],
      "text/plain": [
       "                                                      text  target\n",
       "1596748                         wake school best feel ever       1\n",
       "1596749       thewdb com cool hear old walt interview bmta       1\n",
       "1596750                     ready mojo makeover ask detail       1\n",
       "1596751  happy th birthday boo alll time tupac amaru sh...       1\n",
       "1596752                               happy charitytuesday       1"
      ]
     },
     "execution_count": 5,
     "metadata": {},
     "output_type": "execute_result"
    }
   ],
   "source": [
    "df4.tail()"
   ]
  },
  {
   "cell_type": "markdown",
   "metadata": {},
   "source": [
    "## 2. Sampling Data\n",
    "\n",
    "<br><br>\n",
    "We use 7% data, as we see it's best to represent the population. We insist to run original data when we already have access to server as it takes to much computing power using our laptop. "
   ]
  },
  {
   "cell_type": "code",
   "execution_count": 6,
   "metadata": {},
   "outputs": [
    {
     "name": "stdout",
     "output_type": "stream",
     "text": [
      "(55716, 2)\n",
      "(55741, 2)\n"
     ]
    },
    {
     "data": {
      "text/html": [
       "<div>\n",
       "<style scoped>\n",
       "    .dataframe tbody tr th:only-of-type {\n",
       "        vertical-align: middle;\n",
       "    }\n",
       "\n",
       "    .dataframe tbody tr th {\n",
       "        vertical-align: top;\n",
       "    }\n",
       "\n",
       "    .dataframe thead th {\n",
       "        text-align: right;\n",
       "    }\n",
       "</style>\n",
       "<table border=\"1\" class=\"dataframe\">\n",
       "  <thead>\n",
       "    <tr style=\"text-align: right;\">\n",
       "      <th></th>\n",
       "      <th>text</th>\n",
       "      <th>target</th>\n",
       "    </tr>\n",
       "  </thead>\n",
       "  <tbody>\n",
       "    <tr>\n",
       "      <th>0</th>\n",
       "      <td>leesh rabena haykrdmak ataba gdeda least still...</td>\n",
       "      <td>1</td>\n",
       "    </tr>\n",
       "    <tr>\n",
       "      <th>1</th>\n",
       "      <td>du sk welcome twitter hj rtat</td>\n",
       "      <td>1</td>\n",
       "    </tr>\n",
       "    <tr>\n",
       "      <th>2</th>\n",
       "      <td>raymo heyy reply follow thanxx</td>\n",
       "      <td>1</td>\n",
       "    </tr>\n",
       "    <tr>\n",
       "      <th>3</th>\n",
       "      <td>thank happy finally decent hours word since</td>\n",
       "      <td>1</td>\n",
       "    </tr>\n",
       "    <tr>\n",
       "      <th>4</th>\n",
       "      <td>boo boo commin today</td>\n",
       "      <td>1</td>\n",
       "    </tr>\n",
       "  </tbody>\n",
       "</table>\n",
       "</div>"
      ],
      "text/plain": [
       "                                                text  target\n",
       "0  leesh rabena haykrdmak ataba gdeda least still...       1\n",
       "1                      du sk welcome twitter hj rtat       1\n",
       "2                     raymo heyy reply follow thanxx       1\n",
       "3        thank happy finally decent hours word since       1\n",
       "4                               boo boo commin today       1"
      ]
     },
     "execution_count": 6,
     "metadata": {},
     "output_type": "execute_result"
    }
   ],
   "source": [
    "pos=df4[df4['target']==1]\n",
    "neg=df4[df4['target']==0]\n",
    "pos_sampling = pos.sample(frac=0.07).reset_index().drop(columns='index')\n",
    "neg_sampling = neg.sample(frac=0.07).reset_index().drop(columns='index')\n",
    "\n",
    "print(pos_sampling.shape)\n",
    "print(neg_sampling.shape)\n",
    "pos_sampling.head()\n"
   ]
  },
  {
   "cell_type": "markdown",
   "metadata": {},
   "source": [
    "<br><br>\n",
    "As you can see, our data is balanced. We append both sentiment and create split train test in the next part"
   ]
  },
  {
   "cell_type": "code",
   "execution_count": 7,
   "metadata": {},
   "outputs": [
    {
     "data": {
      "text/plain": [
       "0    55741\n",
       "1    55716\n",
       "Name: target, dtype: int64"
      ]
     },
     "execution_count": 7,
     "metadata": {},
     "output_type": "execute_result"
    }
   ],
   "source": [
    "data2=pd.DataFrame()\n",
    "data2=pos_sampling.append(neg_sampling,ignore_index=True)\n",
    "\n",
    "data2['target'].value_counts()"
   ]
  },
  {
   "cell_type": "markdown",
   "metadata": {},
   "source": [
    "<br><br>\n",
    "\n",
    "## 3. TFID vectorizer\n",
    "\n",
    "<br>\n",
    "We are using TFID vectorizer instead of count vectorizer. The reason why, you can see in this link <br>\n",
    "\n",
    "https://www.quora.com/What-is-the-difference-between-TfidfVectorizer-and-CountVectorizer-1\n",
    "\n",
    "<br>\n",
    "Which roughly says :<br>\n",
    "\n",
    "\"**CountVectorizer** *just counts the word frequencies. Simple as that. With the **TFIDFVectorizer** the value increases proportionally to count, but is offset by the frequency of the word in the corpus. - This is the IDF (inverse document frequency part). This helps to adjust for the fact that some words appear more frequently. How often do you really use crepuscular, and petrichor? <br>\n",
    "Sure, they are important words, and should be used when appropriate, but how often do we really use them?<br>\n",
    "Without the inverse document frequency part commen, less meaning giving words such as “the” (assuming you don’t filter stopwords) would bear a higher weight than these less frequent words.\"*\n",
    "\n",
    "<br>\n",
    "On overall, as you can see in those links, TFID is used more when building machine learning model\n",
    "\n",
    "<br><br>\n",
    "Before, we split our data to prediction X, and target, Y\n"
   ]
  },
  {
   "cell_type": "code",
   "execution_count": 57,
   "metadata": {},
   "outputs": [],
   "source": [
    "# Train test split\n",
    "X = data2['text']\n",
    "y = data2['target']"
   ]
  },
  {
   "cell_type": "code",
   "execution_count": 58,
   "metadata": {},
   "outputs": [
    {
     "data": {
      "text/plain": [
       "0    55741\n",
       "1    55716\n",
       "Name: target, dtype: int64"
      ]
     },
     "execution_count": 58,
     "metadata": {},
     "output_type": "execute_result"
    }
   ],
   "source": [
    "y.value_counts()"
   ]
  },
  {
   "cell_type": "code",
   "execution_count": 59,
   "metadata": {},
   "outputs": [
    {
     "data": {
      "text/plain": [
       "<111457x50815 sparse matrix of type '<class 'numpy.float64'>'\n",
       "\twith 750887 stored elements in Compressed Sparse Row format>"
      ]
     },
     "execution_count": 59,
     "metadata": {},
     "output_type": "execute_result"
    }
   ],
   "source": [
    "#tfidf vectorizer\n",
    "tfidf=TfidfVectorizer()\n",
    "X_vecto = tfidf.fit_transform(X)\n",
    "X_vecto"
   ]
  },
  {
   "cell_type": "markdown",
   "metadata": {},
   "source": [
    "## 4. Train test split\n",
    "\n",
    "<br><br>\n",
    "We use 80% train and 20% test. "
   ]
  },
  {
   "cell_type": "code",
   "execution_count": 60,
   "metadata": {},
   "outputs": [],
   "source": [
    "#train test split using tfidfvectorizer \n",
    "xtrain,xtest, ytrain , ytest = train_test_split(X_vecto, y, test_size=0.2, random_state=0)"
   ]
  },
  {
   "cell_type": "markdown",
   "metadata": {},
   "source": [
    "## 5. Model Development"
   ]
  },
  {
   "cell_type": "markdown",
   "metadata": {},
   "source": [
    "<br><br>\n",
    "We are, as we stated before using Decision tree, random forrest, XGB, MultinomialNB, and Logistic Regression. We choose which models produced the best f1score, precision, and Recall. \n",
    "<br><br>\n",
    "Decision Tree, basicaly means we split data into more and more homogenous leaf nodes. <br>\n",
    "\"**A decision tree** *is a decision support tool that uses a tree-like graph or model of decisions and their possible consequences, including chance event outcomes, resource costs, and utility. It is one way to display an algorithm that only contains conditional control statements.<br>\n",
    "A decision tree is a flowchart-like structure in which each internal node represents a “test” on an attribute (e.g. whether a coin flip comes up heads or tails), each branch represents the outcome of the test, and each leaf node represents a class label (decision taken after computing all attributes). The paths from root to leaf represent classification rules.<br>\n",
    "Tree based learning algorithms are considered to be one of the best and mostly used supervised learning methods. Tree based methods empower predictive models with high accuracy, stability and ease of interpretation. Unlike linear models, they map non-linear relationships quite well. They are adaptable at solving any kind of problem at hand (classification or regression)*\"\n",
    "\n",
    "<br>\n",
    "\n",
    "\"*Boosting is based on weak learners (high bias, low variance). In terms of decision trees, weak learners are shallow trees, sometimes even as small as decision stumps (trees with two leaves). Boosting reduces error mainly by reducing bias (and also to some extent variance, by aggregating the output from many models).<br>\n",
    "On the other hand, Random Forest uses as you said fully grown decision trees (low bias, high variance). It tackles the error reduction task in the opposite way: by reducing variance. The trees are made uncorrelated to maximize the decrease in variance, but the algorithm cannot reduce bias (which is slightly higher than the bias of an individual tree in the forest). Hence the need for large, unpruned trees, so that the bias is initially as low as possible.*\"\n",
    "\n",
    "<br>\n",
    "Naive bayes, bassicaly using Bayesian Theorem to produce given predictor X, which class it belongs to. Regression Logistic in the other hands, are regression but using logit function as expecation of random variable respon (Y). \n",
    "\n",
    "<br>\n",
    "<br>\n",
    "Other than above machine Learning, we use these statistics to measure our model performance :\n",
    "<br>\n",
    "\n",
    "**Accuracy** - Accuracy is the most intuitive performance measure and it is simply a ratio of correctly predicted observation to the total observations. One may think that, if we have high accuracy then our model is best. Yes, accuracy is a great measure but only when you have symmetric datasets where values of false positive and false negatives are almost same. Therefore, you have to look at other parameters to evaluate the performance of your model\n",
    "<br>\n",
    "**Precision** - Precision is the ratio of correctly predicted positive observations to the total predicted positive observations. The question that this metric answer is of all data that labeled (by model) as positive, how many actually positive? High precision relates to the low false positive rate. \n",
    "<br>\n",
    "**Recall (Sensitivity)** - Recall is the ratio of correctly predicted positive observations to the all observations in actual class - yes. The question recall answers is: Of all the data that truly positive, how many did we label?  \n",
    "<br>\n",
    "**F1 score** - F1 Score is the weighted average of Precision and Recall. Therefore, this score takes both false positives and false negatives into account. Intuitively it is not as easy to understand as accuracy, but F1 is usually more useful than accuracy, especially if you have an uneven class distribution. Accuracy works best if false positives and false negatives have similar cost. If the cost of false positives and false negatives are very different, it’s better to look at both Precision and Recall.\n",
    "\n",
    "<br>\n",
    "Ideally, we see the confusion matrix of both models and AUC score. But, we use these 3 statistics to first determine which model works best for our data"
   ]
  },
  {
   "cell_type": "code",
   "execution_count": 63,
   "metadata": {
    "scrolled": true
   },
   "outputs": [
    {
     "name": "stderr",
     "output_type": "stream",
     "text": [
      "C:\\ProgramData\\Anaconda3\\lib\\site-packages\\sklearn\\ensemble\\forest.py:245: FutureWarning: The default value of n_estimators will change from 10 in version 0.20 to 100 in 0.22.\n",
      "  \"10 in version 0.20 to 100 in 0.22.\", FutureWarning)\n",
      "C:\\ProgramData\\Anaconda3\\lib\\site-packages\\sklearn\\linear_model\\logistic.py:432: FutureWarning: Default solver will be changed to 'lbfgs' in 0.22. Specify a solver to silence this warning.\n",
      "  FutureWarning)\n"
     ]
    },
    {
     "data": {
      "text/html": [
       "<div>\n",
       "<style scoped>\n",
       "    .dataframe tbody tr th:only-of-type {\n",
       "        vertical-align: middle;\n",
       "    }\n",
       "\n",
       "    .dataframe tbody tr th {\n",
       "        vertical-align: top;\n",
       "    }\n",
       "\n",
       "    .dataframe thead th {\n",
       "        text-align: right;\n",
       "    }\n",
       "</style>\n",
       "<table border=\"1\" class=\"dataframe\">\n",
       "  <thead>\n",
       "    <tr style=\"text-align: right;\">\n",
       "      <th></th>\n",
       "      <th>model</th>\n",
       "      <th>train_accuracy</th>\n",
       "      <th>test_accuracy</th>\n",
       "      <th>train_recall</th>\n",
       "      <th>test_recall</th>\n",
       "      <th>train_precision</th>\n",
       "      <th>test_precision</th>\n",
       "      <th>train_f1</th>\n",
       "      <th>test_f1</th>\n",
       "    </tr>\n",
       "  </thead>\n",
       "  <tbody>\n",
       "    <tr>\n",
       "      <th>0</th>\n",
       "      <td>Decision Tree</td>\n",
       "      <td>0.697191</td>\n",
       "      <td>0.650772</td>\n",
       "      <td>0.697191</td>\n",
       "      <td>0.650772</td>\n",
       "      <td>0.697191</td>\n",
       "      <td>0.650772</td>\n",
       "      <td>0.697191</td>\n",
       "      <td>0.650772</td>\n",
       "    </tr>\n",
       "    <tr>\n",
       "      <th>1</th>\n",
       "      <td>Random Forest</td>\n",
       "      <td>0.712533</td>\n",
       "      <td>0.674906</td>\n",
       "      <td>0.712533</td>\n",
       "      <td>0.674906</td>\n",
       "      <td>0.712533</td>\n",
       "      <td>0.674906</td>\n",
       "      <td>0.712533</td>\n",
       "      <td>0.674906</td>\n",
       "    </tr>\n",
       "    <tr>\n",
       "      <th>2</th>\n",
       "      <td>XGB</td>\n",
       "      <td>0.686446</td>\n",
       "      <td>0.680199</td>\n",
       "      <td>0.686446</td>\n",
       "      <td>0.680199</td>\n",
       "      <td>0.686446</td>\n",
       "      <td>0.680199</td>\n",
       "      <td>0.686446</td>\n",
       "      <td>0.680199</td>\n",
       "    </tr>\n",
       "    <tr>\n",
       "      <th>3</th>\n",
       "      <td>MultinomialNB</td>\n",
       "      <td>0.825683</td>\n",
       "      <td>0.741566</td>\n",
       "      <td>0.825683</td>\n",
       "      <td>0.741566</td>\n",
       "      <td>0.825683</td>\n",
       "      <td>0.741566</td>\n",
       "      <td>0.825683</td>\n",
       "      <td>0.741566</td>\n",
       "    </tr>\n",
       "    <tr>\n",
       "      <th>4</th>\n",
       "      <td>LogisticRegression</td>\n",
       "      <td>0.813245</td>\n",
       "      <td>0.762650</td>\n",
       "      <td>0.813245</td>\n",
       "      <td>0.762650</td>\n",
       "      <td>0.813245</td>\n",
       "      <td>0.762650</td>\n",
       "      <td>0.813245</td>\n",
       "      <td>0.762650</td>\n",
       "    </tr>\n",
       "  </tbody>\n",
       "</table>\n",
       "</div>"
      ],
      "text/plain": [
       "                model  train_accuracy  test_accuracy  train_recall  \\\n",
       "0       Decision Tree        0.697191       0.650772      0.697191   \n",
       "1       Random Forest        0.712533       0.674906      0.712533   \n",
       "2                 XGB        0.686446       0.680199      0.686446   \n",
       "3       MultinomialNB        0.825683       0.741566      0.825683   \n",
       "4  LogisticRegression        0.813245       0.762650      0.813245   \n",
       "\n",
       "   test_recall  train_precision  test_precision  train_f1   test_f1  \n",
       "0     0.650772         0.697191        0.650772  0.697191  0.650772  \n",
       "1     0.674906         0.712533        0.674906  0.712533  0.674906  \n",
       "2     0.680199         0.686446        0.680199  0.686446  0.680199  \n",
       "3     0.741566         0.825683        0.741566  0.825683  0.741566  \n",
       "4     0.762650         0.813245        0.762650  0.813245  0.762650  "
      ]
     },
     "execution_count": 63,
     "metadata": {},
     "output_type": "execute_result"
    }
   ],
   "source": [
    "# The resulted model performance will be stored here\n",
    "Result = pd.DataFrame(columns=['model','train_accuracy','test_accuracy','train_recall','test_recall','train_precision','test_precision','train_f1','test_f1'])\n",
    "\n",
    "# Initialize \n",
    "j=0\n",
    "\n",
    "# Classifiers and its names\n",
    "classifiers=[DecisionTreeClassifier(max_depth=30),RandomForestClassifier(max_depth=30),XGBClassifier(),MultinomialNB(),LogisticRegression()]\n",
    "names = [\"Decision Tree\", \"Random Forest\", \"XGB\",'MultinomialNB','LogisticRegression']\n",
    "\n",
    "# iteration on each models\n",
    "for model in classifiers:\n",
    "    \n",
    "    model=model.fit(xtrain,ytrain)    \n",
    "    predict_train = model.predict(xtrain)\n",
    "    predict_test = model.predict(xtest)\n",
    "\n",
    "    accuracy_train=accuracy_score(ytrain, predict_train)\n",
    "    accuracy_test=accuracy_score(ytest, predict_test)\n",
    "    recall_train = recall_score(ytrain, predict_train, average=\"micro\")\n",
    "    recall_test = recall_score(ytest, predict_test,average=\"micro\") \n",
    "\n",
    "    precision_train = precision_score(ytrain, predict_train,average=\"micro\")\n",
    "    precision_test = precision_score(ytest, predict_test,average=\"micro\")\n",
    "\n",
    "    f1score_train = f1_score(ytrain, predict_train,average=\"micro\")\n",
    "    f1score_test = f1_score(ytest, predict_test,average=\"micro\")\n",
    "    \n",
    "    # The produced score resulted here temporary\n",
    "    Re=pd.DataFrame()\n",
    "    \n",
    "    \n",
    "    Re['model']=[names[j]]\n",
    "    \n",
    "    Re['train_accuracy'] =  [accuracy_train]\n",
    "    Re['test_accuracy'] =  [accuracy_test]\n",
    "    Re['train_recall'] =  [recall_train]\n",
    "    Re['test_recall'] =  [recall_test]\n",
    "    Re['train_precision'] =  [precision_train]\n",
    "    Re['test_precision'] =  [precision_test]\n",
    "    Re['train_f1'] =  [f1score_train]\n",
    "    Re['test_f1'] =  [f1score_test]\n",
    "    \n",
    "    # append the result to Resull table\n",
    "    Result = Result.append(Re,ignore_index=True)\n",
    "    j+=1   \n",
    "    \n",
    "Result   "
   ]
  },
  {
   "cell_type": "markdown",
   "metadata": {},
   "source": [
    "<br><br>\n",
    "Turns out, logistic regression produced best result with f1score, precision, recall the highest. With all statistic measurement 0.765, this means roughly our models roughly be able to labeled the data test correctly 76,5%, which is quite high. It means, compared to just predict blindly, which have probability correct 50%, our model has biggher probability correct, which is 76.5% or 1.5 times higher than using blind luck."
   ]
  },
  {
   "cell_type": "code",
   "execution_count": 84,
   "metadata": {},
   "outputs": [
    {
     "name": "stdout",
     "output_type": "stream",
     "text": [
      "     Confussion Matrix\n",
      "\n",
      "\n",
      "             Actual 0  Actual 1\n",
      "Predicted 0      8238      2968\n",
      "Predicted 1      2323      8763\n"
     ]
    }
   ],
   "source": [
    "from sklearn.metrics import confusion_matrix \n",
    "\n",
    "# the last iteration is logistic regression so we didn't need to rerun our model\n",
    "results = confusion_matrix(ytest, predict_test,labels=[0,1])  \n",
    "print('     Confussion Matrix')\n",
    "print('\\n')\n",
    "print(pd.DataFrame(results,columns=['Actual 0','Actual 1'],index=['Predicted 0','Predicted 1']))"
   ]
  },
  {
   "cell_type": "markdown",
   "metadata": {},
   "source": [
    "<br><br>\n",
    "Looking at confussion matrix, we can further see our model performance. For example, in columns Actual 1, our model correctly predicted 1 8763 times, and 2968 times incorrectly predicted 0 when it actualy 1. Our model good enough to predicted sentiment analysis."
   ]
  },
  {
   "cell_type": "markdown",
   "metadata": {},
   "source": [
    "### Conclusion  and Recomendation:"
   ]
  },
  {
   "cell_type": "markdown",
   "metadata": {},
   "source": [
    "<br><br>\n",
    "Using Logistic regression, we can predicted and classify if user tweet classify as positive (1) or negative (0)  by analyzing each words in those tweets and put it in regression model (after cleaning and count vectorizer). With accuracy (and others measurement) 76.5%, our model is good enough.\n",
    "<br>\n",
    "**recomendation** <br>\n",
    "We can use more data tweets, to be able to further analyze population. If you do not want to wait all day running the model, you can use distribution jobs to another server by using pyspark, hadoop (map reduce) etc. Here, we only demonstrate our model development to sentiment analysis"
   ]
  },
  {
   "cell_type": "markdown",
   "metadata": {},
   "source": [
    "# OPTIONAL"
   ]
  },
  {
   "cell_type": "markdown",
   "metadata": {},
   "source": [
    "## Improve Logistic Models\n",
    "<br>\n",
    "<br>\n",
    "Logistic regression, can be improved by inputting relevant features (or X) in columns as it was for example insignificant or does not have strong relationship with Y. This means in our analysis we can remove unecessary words. Notice that some words is contained in both positive and negative. We will show this by using world cloud"
   ]
  },
  {
   "cell_type": "code",
   "execution_count": 87,
   "metadata": {},
   "outputs": [],
   "source": [
    "#define happy and not happy \n",
    "happy = data2[data2['target'] == 1]\n",
    "not_happy  = data2[data2['target'] == 0]"
   ]
  },
  {
   "cell_type": "code",
   "execution_count": 88,
   "metadata": {},
   "outputs": [],
   "source": [
    "#merge all the happy comments into one paragraph\n",
    "all_description_happy = \"\".join(happy.text.values)\n",
    "all_description_not_happy = \"\".join(not_happy.text.values)"
   ]
  },
  {
   "cell_type": "code",
   "execution_count": 89,
   "metadata": {},
   "outputs": [],
   "source": [
    "#text = happy.Description\n",
    "#make a wordcloud \n",
    "def create_word_cloud(string):\n",
    "    cloud = WordCloud(background_color = \"white\", max_words = 30, stopwords = set(STOPWORDS)).generate(string)\n",
    "    plt.imshow(cloud, interpolation='bilinear')\n",
    "    plt.axis('off')\n",
    "    plt.show()"
   ]
  },
  {
   "cell_type": "code",
   "execution_count": 90,
   "metadata": {},
   "outputs": [
    {
     "data": {
      "image/png": "[encoded data removed]",
      "text/plain": [
       "<Figure size 432x288 with 1 Axes>"
      ]
     },
     "metadata": {
      "needs_background": "light"
     },
     "output_type": "display_data"
    }
   ],
   "source": [
    "#happy \n",
    "create_word_cloud(all_description_happy)"
   ]
  },
  {
   "cell_type": "code",
   "execution_count": 91,
   "metadata": {},
   "outputs": [
    {
     "data": {
      "image/png": "[encoded data removed]",
      "text/plain": [
       "<Figure size 432x288 with 1 Axes>"
      ]
     },
     "metadata": {
      "needs_background": "light"
     },
     "output_type": "display_data"
    }
   ],
   "source": [
    "#nothappy\n",
    "create_word_cloud(all_description_not_happy)"
   ]
  },
  {
   "cell_type": "markdown",
   "metadata": {},
   "source": [
    "<br><br>\n",
    "For example, **go**, **day**, etc contained in both positive and negative. This means this words in doesnot unique in each sentiment, and only create confusion in our models. If **go** happens in both sentiment, then if there are user tweets that contains **go** our model will incorectly classify it. Of course, we have to consider collinearity (which is **go** could be correlated to other words which even if it violates regression assumption, it can still improve our model). For now, we want to compare the result when we run logistic regression but by removing same words in each sentiment"
   ]
  },
  {
   "cell_type": "code",
   "execution_count": 92,
   "metadata": {
    "scrolled": false
   },
   "outputs": [
    {
     "data": {
      "text/plain": [
       "thank                                                                    274\n",
       "good morning                                                              81\n",
       "get followers day use www tweeteradder com add everyone train pay vip     66\n",
       "welcome                                                                   48\n",
       "love                                                                      43\n",
       "Name: text, dtype: int64"
      ]
     },
     "execution_count": 92,
     "metadata": {},
     "output_type": "execute_result"
    }
   ],
   "source": [
    "hap=happy['text'].value_counts()\n",
    "hap.head()"
   ]
  },
  {
   "cell_type": "code",
   "execution_count": 93,
   "metadata": {},
   "outputs": [
    {
     "data": {
      "text/plain": [
       "miss                               62\n",
       "work                               56\n",
       "lose please help find good home    40\n",
       "headache                           40\n",
       "sad                                31\n",
       "Name: text, dtype: int64"
      ]
     },
     "execution_count": 93,
     "metadata": {},
     "output_type": "execute_result"
    }
   ],
   "source": [
    "n_hap=not_happy['text'].value_counts()\n",
    "n_hap.head()"
   ]
  },
  {
   "cell_type": "code",
   "execution_count": 95,
   "metadata": {},
   "outputs": [
    {
     "name": "stdout",
     "output_type": "stream",
     "text": [
      "55\n",
      "['know', 'good', 'work', 'hi', 'go', 'home', 'check', 'miss', 'think', 'happy']\n"
     ]
    }
   ],
   "source": [
    "delete_word=[]\n",
    "for i in hap.index:\n",
    "    if str(i) in str(n_hap.index):\n",
    "        delete_word.append(i)\n",
    "print(len(delete_word))\n",
    "print(delete_word[:10])\n"
   ]
  },
  {
   "cell_type": "markdown",
   "metadata": {},
   "source": [
    "<br>\n",
    "These are words that contained in each sentiment. There are 55 words for example, 'go','work','hi' etc. We remove all same words within our data and tried to rerun our logistic models"
   ]
  },
  {
   "cell_type": "code",
   "execution_count": 96,
   "metadata": {},
   "outputs": [
    {
     "data": {
      "text/plain": [
       "0    leesh rabena haykrdmak ataba gdeda least still...\n",
       "1                                du sk welcome hj rtat\n",
       "2                             raymo heyy follow thanxx\n",
       "3                thank finally decent hours word since\n",
       "4                                               commin\n",
       "Name: text, dtype: object"
      ]
     },
     "execution_count": 96,
     "metadata": {},
     "output_type": "execute_result"
    }
   ],
   "source": [
    "data3=data2.copy()\n",
    "data3['text'] = data3['text'].apply(lambda x: \" \".join(x for x in x.split() if x not in delete_word))\n",
    "data3['text'].head()\n"
   ]
  },
  {
   "cell_type": "code",
   "execution_count": 97,
   "metadata": {},
   "outputs": [],
   "source": [
    "# Train test split\n",
    "X = data3['text']\n",
    "y = data3['target']"
   ]
  },
  {
   "cell_type": "code",
   "execution_count": 98,
   "metadata": {},
   "outputs": [
    {
     "data": {
      "text/plain": [
       "0    55741\n",
       "1    55716\n",
       "Name: target, dtype: int64"
      ]
     },
     "execution_count": 98,
     "metadata": {},
     "output_type": "execute_result"
    }
   ],
   "source": [
    "y.value_counts()"
   ]
  },
  {
   "cell_type": "code",
   "execution_count": 99,
   "metadata": {},
   "outputs": [
    {
     "data": {
      "text/plain": [
       "<111457x50766 sparse matrix of type '<class 'numpy.float64'>'\n",
       "\twith 661703 stored elements in Compressed Sparse Row format>"
      ]
     },
     "execution_count": 99,
     "metadata": {},
     "output_type": "execute_result"
    }
   ],
   "source": [
    "#tfidf vectorizer\n",
    "tfidf=TfidfVectorizer()\n",
    "X_vecto = tfidf.fit_transform(X)\n",
    "X_vecto"
   ]
  },
  {
   "cell_type": "code",
   "execution_count": 100,
   "metadata": {},
   "outputs": [],
   "source": [
    "#train test split using tfidfvectorizer \n",
    "xtrain,xtest, ytrain , ytest = train_test_split(X_vecto, y, test_size=0.2, random_state=0)"
   ]
  },
  {
   "cell_type": "code",
   "execution_count": 103,
   "metadata": {
    "scrolled": false
   },
   "outputs": [
    {
     "data": {
      "text/html": [
       "<div>\n",
       "<style scoped>\n",
       "    .dataframe tbody tr th:only-of-type {\n",
       "        vertical-align: middle;\n",
       "    }\n",
       "\n",
       "    .dataframe tbody tr th {\n",
       "        vertical-align: top;\n",
       "    }\n",
       "\n",
       "    .dataframe thead th {\n",
       "        text-align: right;\n",
       "    }\n",
       "</style>\n",
       "<table border=\"1\" class=\"dataframe\">\n",
       "  <thead>\n",
       "    <tr style=\"text-align: right;\">\n",
       "      <th></th>\n",
       "      <th>model</th>\n",
       "      <th>test_accuracy</th>\n",
       "      <th>test_f1</th>\n",
       "      <th>test_precision</th>\n",
       "      <th>test_recall</th>\n",
       "      <th>train_accuracy</th>\n",
       "      <th>train_f1</th>\n",
       "      <th>train_precision</th>\n",
       "      <th>train_recall</th>\n",
       "    </tr>\n",
       "  </thead>\n",
       "  <tbody>\n",
       "    <tr>\n",
       "      <th>0</th>\n",
       "      <td>Decision Tree</td>\n",
       "      <td>0.650772</td>\n",
       "      <td>0.650772</td>\n",
       "      <td>0.650772</td>\n",
       "      <td>0.650772</td>\n",
       "      <td>0.697191</td>\n",
       "      <td>0.697191</td>\n",
       "      <td>0.697191</td>\n",
       "      <td>0.697191</td>\n",
       "    </tr>\n",
       "    <tr>\n",
       "      <th>1</th>\n",
       "      <td>Random Forest</td>\n",
       "      <td>0.674906</td>\n",
       "      <td>0.674906</td>\n",
       "      <td>0.674906</td>\n",
       "      <td>0.674906</td>\n",
       "      <td>0.712533</td>\n",
       "      <td>0.712533</td>\n",
       "      <td>0.712533</td>\n",
       "      <td>0.712533</td>\n",
       "    </tr>\n",
       "    <tr>\n",
       "      <th>2</th>\n",
       "      <td>XGB</td>\n",
       "      <td>0.680199</td>\n",
       "      <td>0.680199</td>\n",
       "      <td>0.680199</td>\n",
       "      <td>0.680199</td>\n",
       "      <td>0.686446</td>\n",
       "      <td>0.686446</td>\n",
       "      <td>0.686446</td>\n",
       "      <td>0.686446</td>\n",
       "    </tr>\n",
       "    <tr>\n",
       "      <th>3</th>\n",
       "      <td>MultinomialNB</td>\n",
       "      <td>0.741566</td>\n",
       "      <td>0.741566</td>\n",
       "      <td>0.741566</td>\n",
       "      <td>0.741566</td>\n",
       "      <td>0.825683</td>\n",
       "      <td>0.825683</td>\n",
       "      <td>0.825683</td>\n",
       "      <td>0.825683</td>\n",
       "    </tr>\n",
       "    <tr>\n",
       "      <th>4</th>\n",
       "      <td>LogisticRegression</td>\n",
       "      <td>0.762650</td>\n",
       "      <td>0.762650</td>\n",
       "      <td>0.762650</td>\n",
       "      <td>0.762650</td>\n",
       "      <td>0.813245</td>\n",
       "      <td>0.813245</td>\n",
       "      <td>0.813245</td>\n",
       "      <td>0.813245</td>\n",
       "    </tr>\n",
       "    <tr>\n",
       "      <th>5</th>\n",
       "      <td>Logistic Regression Improved</td>\n",
       "      <td>0.737798</td>\n",
       "      <td>0.737798</td>\n",
       "      <td>0.737798</td>\n",
       "      <td>0.737798</td>\n",
       "      <td>0.801581</td>\n",
       "      <td>0.801581</td>\n",
       "      <td>0.801581</td>\n",
       "      <td>0.801581</td>\n",
       "    </tr>\n",
       "  </tbody>\n",
       "</table>\n",
       "</div>"
      ],
      "text/plain": [
       "                          model  test_accuracy   test_f1  test_precision  \\\n",
       "0                 Decision Tree       0.650772  0.650772        0.650772   \n",
       "1                 Random Forest       0.674906  0.674906        0.674906   \n",
       "2                           XGB       0.680199  0.680199        0.680199   \n",
       "3                 MultinomialNB       0.741566  0.741566        0.741566   \n",
       "4            LogisticRegression       0.762650  0.762650        0.762650   \n",
       "5  Logistic Regression Improved       0.737798  0.737798        0.737798   \n",
       "\n",
       "   test_recall  train_accuracy  train_f1  train_precision  train_recall  \n",
       "0     0.650772        0.697191  0.697191         0.697191      0.697191  \n",
       "1     0.674906        0.712533  0.712533         0.712533      0.712533  \n",
       "2     0.680199        0.686446  0.686446         0.686446      0.686446  \n",
       "3     0.741566        0.825683  0.825683         0.825683      0.825683  \n",
       "4     0.762650        0.813245  0.813245         0.813245      0.813245  \n",
       "5     0.737798        0.801581  0.801581         0.801581      0.801581  "
      ]
     },
     "execution_count": 103,
     "metadata": {},
     "output_type": "execute_result"
    }
   ],
   "source": [
    "model = LogisticRegression()\n",
    "model=model.fit(xtrain,ytrain)    \n",
    "predict_train = model.predict(xtrain)\n",
    "predict_test = model.predict(xtest)\n",
    "\n",
    "accuracy_train=accuracy_score(ytrain, predict_train)\n",
    "accuracy_test=accuracy_score(ytest, predict_test)\n",
    "recall_train = recall_score(ytrain, predict_train, average=\"micro\")\n",
    "recall_test = recall_score(ytest, predict_test,average=\"micro\") \n",
    "precision_train = precision_score(ytrain, predict_train,average=\"micro\")\n",
    "precision_test = precision_score(ytest, predict_test,average=\"micro\")\n",
    "\n",
    "f1score_train = f1_score(ytrain, predict_train,average=\"micro\")\n",
    "f1score_test = f1_score(ytest, predict_test,average=\"micro\")\n",
    "\n",
    "Re=pd.DataFrame()\n",
    "Re['model']=['Logistic Regression Improved']\n",
    "\n",
    "Re['train_accuracy'] =  [accuracy_train]\n",
    "Re['test_accuracy'] =  [accuracy_test]\n",
    "Re['train_recall'] =  [recall_train]\n",
    "Re['test_recall'] =  [recall_test]\n",
    "Re['train_precision'] =  [precision_train]\n",
    "Re['test_precision'] =  [precision_test]\n",
    "Re['train_f1'] =  [f1score_train]\n",
    "Re['test_f1'] =  [f1score_test]\n",
    "\n",
    "Result = Result.append(Re,ignore_index=True)\n",
    "\n",
    "\n",
    "Result   "
   ]
  },
  {
   "cell_type": "markdown",
   "metadata": {},
   "source": [
    "<br><br>\n",
    "Looks like our model is suprisingly decreasing in validation measurement. Then it's best to not remove any words. This as we stated above could be the result og multicollinearity, that is some deleted words have corellation with other words which by removing it makes the correlation of Predictor Y from that other words decrease"
   ]
  },
  {
   "cell_type": "markdown",
   "metadata": {},
   "source": [
    "## Other Optional, Using Logistic Regression on Corrected Typo Data"
   ]
  },
  {
   "cell_type": "markdown",
   "metadata": {},
   "source": [
    "<br><br>\n",
    "We use 0.1% of our data to fix typo in data. We are using TEXTBLOB and it takes a long time to compute. Because of it, we sugested to using MAPREDUCE in server (or using PYSPARK or others distributed jobs architecture) if you want to fix typos"
   ]
  },
  {
   "cell_type": "code",
   "execution_count": 104,
   "metadata": {},
   "outputs": [
    {
     "name": "stdout",
     "output_type": "stream",
     "text": [
      "(796, 2)\n",
      "(796, 2)\n"
     ]
    },
    {
     "data": {
      "text/html": [
       "<div>\n",
       "<style scoped>\n",
       "    .dataframe tbody tr th:only-of-type {\n",
       "        vertical-align: middle;\n",
       "    }\n",
       "\n",
       "    .dataframe tbody tr th {\n",
       "        vertical-align: top;\n",
       "    }\n",
       "\n",
       "    .dataframe thead th {\n",
       "        text-align: right;\n",
       "    }\n",
       "</style>\n",
       "<table border=\"1\" class=\"dataframe\">\n",
       "  <thead>\n",
       "    <tr style=\"text-align: right;\">\n",
       "      <th></th>\n",
       "      <th>text</th>\n",
       "      <th>target</th>\n",
       "    </tr>\n",
       "  </thead>\n",
       "  <tbody>\n",
       "    <tr>\n",
       "      <th>0</th>\n",
       "      <td>thank already round tummy</td>\n",
       "      <td>1</td>\n",
       "    </tr>\n",
       "    <tr>\n",
       "      <th>1</th>\n",
       "      <td>trafalgar square get vote</td>\n",
       "      <td>1</td>\n",
       "    </tr>\n",
       "    <tr>\n",
       "      <th>2</th>\n",
       "      <td>way go</td>\n",
       "      <td>1</td>\n",
       "    </tr>\n",
       "    <tr>\n",
       "      <th>3</th>\n",
       "      <td>dich teach kid roleplay natural</td>\n",
       "      <td>1</td>\n",
       "    </tr>\n",
       "    <tr>\n",
       "      <th>4</th>\n",
       "      <td>faulty penis freak lol thejlu</td>\n",
       "      <td>1</td>\n",
       "    </tr>\n",
       "  </tbody>\n",
       "</table>\n",
       "</div>"
      ],
      "text/plain": [
       "                              text  target\n",
       "0        thank already round tummy       1\n",
       "1        trafalgar square get vote       1\n",
       "2                           way go       1\n",
       "3  dich teach kid roleplay natural       1\n",
       "4    faulty penis freak lol thejlu       1"
      ]
     },
     "execution_count": 104,
     "metadata": {},
     "output_type": "execute_result"
    }
   ],
   "source": [
    "pos=df4[df4['target']==1]\n",
    "neg=df4[df4['target']==0]\n",
    "pos_sampling = pos.sample(frac=0.001).reset_index().drop(columns='index')\n",
    "neg_sampling = neg.sample(frac=0.001).reset_index().drop(columns='index')\n",
    "\n",
    "print(pos_sampling.shape)\n",
    "print(neg_sampling.shape)\n",
    "pos_sampling.head()\n"
   ]
  },
  {
   "cell_type": "code",
   "execution_count": 105,
   "metadata": {},
   "outputs": [
    {
     "data": {
      "text/plain": [
       "1    796\n",
       "0    796\n",
       "Name: target, dtype: int64"
      ]
     },
     "execution_count": 105,
     "metadata": {},
     "output_type": "execute_result"
    }
   ],
   "source": [
    "data10=pd.DataFrame()\n",
    "data10=pos_sampling.append(neg_sampling,ignore_index=True)\n",
    "\n",
    "data10['target'].value_counts()"
   ]
  },
  {
   "cell_type": "markdown",
   "metadata": {},
   "source": [
    "<br><br>\n",
    "You see that we only used 1400 data from total 1.6m data. It's not the representation of those 1.6m, but we only want to compare the result"
   ]
  },
  {
   "cell_type": "code",
   "execution_count": 41,
   "metadata": {},
   "outputs": [],
   "source": [
    "data10['text']=data10['text'].apply(lambda x: str(TextBlob(x).correct()))"
   ]
  },
  {
   "cell_type": "markdown",
   "metadata": {},
   "source": [
    "<br><br>\n",
    "Because it's take to long to run above code, we export to csv those corrected typo data so we won't have to run above code again"
   ]
  },
  {
   "cell_type": "code",
   "execution_count": 45,
   "metadata": {},
   "outputs": [
    {
     "data": {
      "text/html": [
       "<div>\n",
       "<style scoped>\n",
       "    .dataframe tbody tr th:only-of-type {\n",
       "        vertical-align: middle;\n",
       "    }\n",
       "\n",
       "    .dataframe tbody tr th {\n",
       "        vertical-align: top;\n",
       "    }\n",
       "\n",
       "    .dataframe thead th {\n",
       "        text-align: right;\n",
       "    }\n",
       "</style>\n",
       "<table border=\"1\" class=\"dataframe\">\n",
       "  <thead>\n",
       "    <tr style=\"text-align: right;\">\n",
       "      <th></th>\n",
       "      <th>target</th>\n",
       "      <th>text</th>\n",
       "    </tr>\n",
       "  </thead>\n",
       "  <tbody>\n",
       "    <tr>\n",
       "      <th>0</th>\n",
       "      <td>1</td>\n",
       "      <td>glad know pay bill go walk st apt</td>\n",
       "    </tr>\n",
       "    <tr>\n",
       "      <th>1</th>\n",
       "      <td>1</td>\n",
       "      <td>hata up around think</td>\n",
       "    </tr>\n",
       "    <tr>\n",
       "      <th>2</th>\n",
       "      <td>1</td>\n",
       "      <td>yes sir look extremely good make look younger</td>\n",
       "    </tr>\n",
       "    <tr>\n",
       "      <th>3</th>\n",
       "      <td>1</td>\n",
       "      <td>blush</td>\n",
       "    </tr>\n",
       "    <tr>\n",
       "      <th>4</th>\n",
       "      <td>1</td>\n",
       "      <td>havana ameeeeei love</td>\n",
       "    </tr>\n",
       "  </tbody>\n",
       "</table>\n",
       "</div>"
      ],
      "text/plain": [
       "   target                                           text\n",
       "0       1              glad know pay bill go walk st apt\n",
       "1       1                           hata up around think\n",
       "2       1  yes sir look extremely good make look younger\n",
       "3       1                                          blush\n",
       "4       1                           havana ameeeeei love"
      ]
     },
     "execution_count": 45,
     "metadata": {},
     "output_type": "execute_result"
    }
   ],
   "source": [
    "data10['target']=pos_sampling.append(neg_sampling,ignore_index=True)['target']\n",
    "#data10.to_csv('data_fix_typo.csv')\n",
    "data10.head()"
   ]
  },
  {
   "cell_type": "markdown",
   "metadata": {},
   "source": [
    "<br><br>\n",
    "Imported those corrected typo data "
   ]
  },
  {
   "cell_type": "code",
   "execution_count": 50,
   "metadata": {},
   "outputs": [
    {
     "data": {
      "text/html": [
       "<div>\n",
       "<style scoped>\n",
       "    .dataframe tbody tr th:only-of-type {\n",
       "        vertical-align: middle;\n",
       "    }\n",
       "\n",
       "    .dataframe tbody tr th {\n",
       "        vertical-align: top;\n",
       "    }\n",
       "\n",
       "    .dataframe thead th {\n",
       "        text-align: right;\n",
       "    }\n",
       "</style>\n",
       "<table border=\"1\" class=\"dataframe\">\n",
       "  <thead>\n",
       "    <tr style=\"text-align: right;\">\n",
       "      <th></th>\n",
       "      <th>target</th>\n",
       "      <th>text</th>\n",
       "    </tr>\n",
       "  </thead>\n",
       "  <tbody>\n",
       "    <tr>\n",
       "      <th>0</th>\n",
       "      <td>1</td>\n",
       "      <td>glad know pay bill go walk st apt</td>\n",
       "    </tr>\n",
       "    <tr>\n",
       "      <th>1</th>\n",
       "      <td>1</td>\n",
       "      <td>hata up around think</td>\n",
       "    </tr>\n",
       "    <tr>\n",
       "      <th>2</th>\n",
       "      <td>1</td>\n",
       "      <td>yes sir look extremely good make look younger</td>\n",
       "    </tr>\n",
       "    <tr>\n",
       "      <th>3</th>\n",
       "      <td>1</td>\n",
       "      <td>blush</td>\n",
       "    </tr>\n",
       "    <tr>\n",
       "      <th>4</th>\n",
       "      <td>1</td>\n",
       "      <td>havana ameeeeei love</td>\n",
       "    </tr>\n",
       "  </tbody>\n",
       "</table>\n",
       "</div>"
      ],
      "text/plain": [
       "   target                                           text\n",
       "0       1              glad know pay bill go walk st apt\n",
       "1       1                           hata up around think\n",
       "2       1  yes sir look extremely good make look younger\n",
       "3       1                                          blush\n",
       "4       1                           havana ameeeeei love"
      ]
     },
     "execution_count": 50,
     "metadata": {},
     "output_type": "execute_result"
    }
   ],
   "source": [
    "data10=pd.read_csv('data_fix_typo.csv').drop(columns=[\"Unnamed: 0\"])\n",
    "data10.head()"
   ]
  },
  {
   "cell_type": "code",
   "execution_count": 107,
   "metadata": {},
   "outputs": [
    {
     "data": {
      "text/plain": [
       "1    796\n",
       "0    796\n",
       "Name: target, dtype: int64"
      ]
     },
     "execution_count": 107,
     "metadata": {},
     "output_type": "execute_result"
    }
   ],
   "source": [
    "X=data10['text']\n",
    "y=data10['target']\n",
    "y.value_counts()"
   ]
  },
  {
   "cell_type": "code",
   "execution_count": 108,
   "metadata": {},
   "outputs": [
    {
     "data": {
      "text/plain": [
       "<1592x3515 sparse matrix of type '<class 'numpy.float64'>'\n",
       "\twith 10628 stored elements in Compressed Sparse Row format>"
      ]
     },
     "execution_count": 108,
     "metadata": {},
     "output_type": "execute_result"
    }
   ],
   "source": [
    "#tfidf vectorizer\n",
    "tfidf=TfidfVectorizer()\n",
    "X_vecto = tfidf.fit_transform(X)\n",
    "X_vecto"
   ]
  },
  {
   "cell_type": "code",
   "execution_count": 109,
   "metadata": {},
   "outputs": [],
   "source": [
    "#train test split using tfidfvectorizer \n",
    "xtrain,xtest, ytrain , ytest = train_test_split(X_vecto, y, test_size=0.2, random_state=0)"
   ]
  },
  {
   "cell_type": "code",
   "execution_count": 111,
   "metadata": {
    "scrolled": true
   },
   "outputs": [
    {
     "data": {
      "text/html": [
       "<div>\n",
       "<style scoped>\n",
       "    .dataframe tbody tr th:only-of-type {\n",
       "        vertical-align: middle;\n",
       "    }\n",
       "\n",
       "    .dataframe tbody tr th {\n",
       "        vertical-align: top;\n",
       "    }\n",
       "\n",
       "    .dataframe thead th {\n",
       "        text-align: right;\n",
       "    }\n",
       "</style>\n",
       "<table border=\"1\" class=\"dataframe\">\n",
       "  <thead>\n",
       "    <tr style=\"text-align: right;\">\n",
       "      <th></th>\n",
       "      <th>model</th>\n",
       "      <th>test_accuracy</th>\n",
       "      <th>test_f1</th>\n",
       "      <th>test_precision</th>\n",
       "      <th>test_recall</th>\n",
       "      <th>train_accuracy</th>\n",
       "      <th>train_f1</th>\n",
       "      <th>train_precision</th>\n",
       "      <th>train_recall</th>\n",
       "    </tr>\n",
       "  </thead>\n",
       "  <tbody>\n",
       "    <tr>\n",
       "      <th>0</th>\n",
       "      <td>Decision Tree</td>\n",
       "      <td>0.650772</td>\n",
       "      <td>0.650772</td>\n",
       "      <td>0.650772</td>\n",
       "      <td>0.650772</td>\n",
       "      <td>0.697191</td>\n",
       "      <td>0.697191</td>\n",
       "      <td>0.697191</td>\n",
       "      <td>0.697191</td>\n",
       "    </tr>\n",
       "    <tr>\n",
       "      <th>1</th>\n",
       "      <td>Random Forest</td>\n",
       "      <td>0.674906</td>\n",
       "      <td>0.674906</td>\n",
       "      <td>0.674906</td>\n",
       "      <td>0.674906</td>\n",
       "      <td>0.712533</td>\n",
       "      <td>0.712533</td>\n",
       "      <td>0.712533</td>\n",
       "      <td>0.712533</td>\n",
       "    </tr>\n",
       "    <tr>\n",
       "      <th>2</th>\n",
       "      <td>XGB</td>\n",
       "      <td>0.680199</td>\n",
       "      <td>0.680199</td>\n",
       "      <td>0.680199</td>\n",
       "      <td>0.680199</td>\n",
       "      <td>0.686446</td>\n",
       "      <td>0.686446</td>\n",
       "      <td>0.686446</td>\n",
       "      <td>0.686446</td>\n",
       "    </tr>\n",
       "    <tr>\n",
       "      <th>3</th>\n",
       "      <td>MultinomialNB</td>\n",
       "      <td>0.741566</td>\n",
       "      <td>0.741566</td>\n",
       "      <td>0.741566</td>\n",
       "      <td>0.741566</td>\n",
       "      <td>0.825683</td>\n",
       "      <td>0.825683</td>\n",
       "      <td>0.825683</td>\n",
       "      <td>0.825683</td>\n",
       "    </tr>\n",
       "    <tr>\n",
       "      <th>4</th>\n",
       "      <td>LogisticRegression</td>\n",
       "      <td>0.762650</td>\n",
       "      <td>0.762650</td>\n",
       "      <td>0.762650</td>\n",
       "      <td>0.762650</td>\n",
       "      <td>0.813245</td>\n",
       "      <td>0.813245</td>\n",
       "      <td>0.813245</td>\n",
       "      <td>0.813245</td>\n",
       "    </tr>\n",
       "    <tr>\n",
       "      <th>5</th>\n",
       "      <td>Logistic Regression Improved</td>\n",
       "      <td>0.737798</td>\n",
       "      <td>0.737798</td>\n",
       "      <td>0.737798</td>\n",
       "      <td>0.737798</td>\n",
       "      <td>0.801581</td>\n",
       "      <td>0.801581</td>\n",
       "      <td>0.801581</td>\n",
       "      <td>0.801581</td>\n",
       "    </tr>\n",
       "    <tr>\n",
       "      <th>6</th>\n",
       "      <td>Logistic Regression Improved Typo</td>\n",
       "      <td>0.633229</td>\n",
       "      <td>0.633229</td>\n",
       "      <td>0.633229</td>\n",
       "      <td>0.633229</td>\n",
       "      <td>0.934014</td>\n",
       "      <td>0.934014</td>\n",
       "      <td>0.934014</td>\n",
       "      <td>0.934014</td>\n",
       "    </tr>\n",
       "  </tbody>\n",
       "</table>\n",
       "</div>"
      ],
      "text/plain": [
       "                               model  test_accuracy   test_f1  test_precision  \\\n",
       "0                      Decision Tree       0.650772  0.650772        0.650772   \n",
       "1                      Random Forest       0.674906  0.674906        0.674906   \n",
       "2                                XGB       0.680199  0.680199        0.680199   \n",
       "3                      MultinomialNB       0.741566  0.741566        0.741566   \n",
       "4                 LogisticRegression       0.762650  0.762650        0.762650   \n",
       "5       Logistic Regression Improved       0.737798  0.737798        0.737798   \n",
       "6  Logistic Regression Improved Typo       0.633229  0.633229        0.633229   \n",
       "\n",
       "   test_recall  train_accuracy  train_f1  train_precision  train_recall  \n",
       "0     0.650772        0.697191  0.697191         0.697191      0.697191  \n",
       "1     0.674906        0.712533  0.712533         0.712533      0.712533  \n",
       "2     0.680199        0.686446  0.686446         0.686446      0.686446  \n",
       "3     0.741566        0.825683  0.825683         0.825683      0.825683  \n",
       "4     0.762650        0.813245  0.813245         0.813245      0.813245  \n",
       "5     0.737798        0.801581  0.801581         0.801581      0.801581  \n",
       "6     0.633229        0.934014  0.934014         0.934014      0.934014  "
      ]
     },
     "execution_count": 111,
     "metadata": {},
     "output_type": "execute_result"
    }
   ],
   "source": [
    "model = LogisticRegression()\n",
    "model=model.fit(xtrain,ytrain)    \n",
    "predict_train = model.predict(xtrain)\n",
    "predict_test = model.predict(xtest)\n",
    "\n",
    "accuracy_train=accuracy_score(ytrain, predict_train)\n",
    "accuracy_test=accuracy_score(ytest, predict_test)\n",
    "recall_train = recall_score(ytrain, predict_train, average=\"micro\")\n",
    "recall_test = recall_score(ytest, predict_test,average=\"micro\") \n",
    "precision_train = precision_score(ytrain, predict_train,average=\"micro\")\n",
    "precision_test = precision_score(ytest, predict_test,average=\"micro\")\n",
    "\n",
    "f1score_train = f1_score(ytrain, predict_train,average=\"micro\")\n",
    "f1score_test = f1_score(ytest, predict_test,average=\"micro\")\n",
    "\n",
    "Re=pd.DataFrame()\n",
    "Re['model']=['Logistic Regression Improved Typo']\n",
    "\n",
    "Re['train_accuracy'] =  [accuracy_train]\n",
    "Re['test_accuracy'] =  [accuracy_test]\n",
    "Re['train_recall'] =  [recall_train]\n",
    "Re['test_recall'] =  [recall_test]\n",
    "Re['train_precision'] =  [precision_train]\n",
    "Re['test_precision'] =  [precision_test]\n",
    "Re['train_f1'] =  [f1score_train]\n",
    "Re['test_f1'] =  [f1score_test]\n",
    "\n",
    "Result = Result.append(Re,ignore_index=True)\n",
    "\n",
    "\n",
    "Result   "
   ]
  },
  {
   "cell_type": "markdown",
   "metadata": {},
   "source": [
    "<br><br>\n",
    "Our model is more worsen using this corected typo when we validate our model to measurement. But, you see that in train, our model has improved (even almost perfect) measurement score. This means, our models can predict well train data, but cannot predict test data. This could be caused by using only some tiny3x fraction of our data, and the sample (and train) cannot represent the original data well enough. We insist and sugested using corected typo to bigger size data"
   ]
  },
  {
   "cell_type": "markdown",
   "metadata": {},
   "source": [
    "## Conclusion #2 OPTIONAL (SEE ABOVE CONCLUSION IF YOU JUST SKIP TO LAST CELL)"
   ]
  },
  {
   "cell_type": "markdown",
   "metadata": {},
   "source": [
    "<br>\n",
    "Looks like it's bet to just use original data, as it has better measurement score than removing some match column between sentiment and by  typo correction (but we still not sure as the train accuracy is highly improved). "
   ]
  },
  {
   "cell_type": "markdown",
   "metadata": {},
   "source": [
    "##### Created By : Andreas Mulyarahardja"
   ]
  }
 ],
 "metadata": {
  "kernelspec": {
   "display_name": "Python 3",
   "language": "python",
   "name": "python3"
  },
  "language_info": {
   "codemirror_mode": {
    "name": "ipython",
    "version": 3
   },
   "file_extension": ".py",
   "mimetype": "text/x-python",
   "name": "python",
   "nbconvert_exporter": "python",
   "pygments_lexer": "ipython3",
   "version": "3.7.3"
  }
 },
 "nbformat": 4,
 "nbformat_minor": 2
}
